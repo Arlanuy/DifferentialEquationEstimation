{
 "cells": [
  {
   "cell_type": "code",
   "execution_count": 42,
   "metadata": {},
   "outputs": [],
   "source": [
    "def e_func(x):\n",
    "    return math.exp(x)\n",
    "\n",
    "def findTripleFDiff(h, find_at):\n",
    "    denom = 2*(h ** 3)\n",
    "    \n",
    "    numer = e_func(find_at + (2*h)) - e_func(find_at - (2*h)) - (2*e_func(find_at + h)) + (2 * e_func(find_at - h))\n",
    "    return numer/denom"
   ]
  },
  {
   "cell_type": "code",
   "execution_count": 45,
   "metadata": {},
   "outputs": [
    {
     "name": "stdout",
     "output_type": "stream",
     "text": [
      "[1e-10, 1e-09, 1e-08, 1e-07, 1e-06, 1e-05, 0.0001, 0.001, 0.01, 0.1]\n",
      "e_func at 0.1 is 1.1051709180756477\n"
     ]
    }
   ],
   "source": [
    "import math\n",
    "\n",
    "find_at = 0\n",
    "h_values = [10**(x-10) for x in range(0, 10)]\n",
    "#print(h_values)\n",
    "x = 0.1\n"
   ]
  },
  {
   "cell_type": "code",
   "execution_count": 46,
   "metadata": {},
   "outputs": [
    {
     "name": "stdout",
     "output_type": "stream",
     "text": [
      "at h = 1e-10the estimated value of f at x = 0 is 0.0\n",
      "at h = 1e-09the estimated value of f at x = 0 is -111022302462.51562\n",
      "at h = 1e-08the estimated value of f at x = 0 is -111022302.46251564\n",
      "at h = 1e-07the estimated value of f at x = 0 is 222044.60492503134\n",
      "at h = 1e-06the estimated value of f at x = 0 is 111.02230246251567\n",
      "at h = 1e-05the estimated value of f at x = 0 is 0.9992007221626407\n",
      "at h = 0.0001the estimated value of f at x = 0 is 0.9999778782798783\n",
      "at h = 0.001the estimated value of f at x = 0 is 1.000000304784976\n",
      "at h = 0.01the estimated value of f at x = 0 is 1.0000250003638909\n",
      "at h = 0.1the estimated value of f at x = 0 is 1.0025025014057662\n"
     ]
    }
   ],
   "source": [
    "for h in h_values:\n",
    "    print(\"at h = \" + str(h) + \"the estimated value of f at x = \" + str(find_at) + \" is \" + str(findTripleFDiff(h, find_at)))"
   ]
  },
  {
   "cell_type": "code",
   "execution_count": null,
   "metadata": {},
   "outputs": [],
   "source": []
  }
 ],
 "metadata": {
  "kernelspec": {
   "display_name": "Python 3",
   "language": "python",
   "name": "python3"
  },
  "language_info": {
   "codemirror_mode": {
    "name": "ipython",
    "version": 3
   },
   "file_extension": ".py",
   "mimetype": "text/x-python",
   "name": "python",
   "nbconvert_exporter": "python",
   "pygments_lexer": "ipython3",
   "version": "3.7.1"
  }
 },
 "nbformat": 4,
 "nbformat_minor": 2
}
